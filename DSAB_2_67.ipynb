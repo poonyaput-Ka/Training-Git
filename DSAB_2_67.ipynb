{
  "cells": [
    {
      "cell_type": "markdown",
      "metadata": {
        "id": "view-in-github",
        "colab_type": "text"
      },
      "source": [
        "<a href=\"https://colab.research.google.com/github/poonyaput-Ka/Training-Git/blob/poonyaput.ka/DSAB_2_67.ipynb\" target=\"_parent\"><img src=\"https://colab.research.google.com/assets/colab-badge.svg\" alt=\"Open In Colab\"/></a>"
      ]
    },
    {
      "cell_type": "markdown",
      "metadata": {
        "id": "2J1LonmALxDE"
      },
      "source": [
        "# The Lastest Workshop for DSAB 2/67\n",
        "\n",
        "#** Data Science and Analytics with R on Colab **\n",
        "\n",
        "#By: Input Name and surname with id\n",
        "\n",
        "\n"
      ]
    },
    {
      "cell_type": "code",
      "source": [],
      "metadata": {
        "id": "B96uYJsa_c83"
      },
      "execution_count": null,
      "outputs": []
    },
    {
      "cell_type": "markdown",
      "source": [
        "**Introduction to R Language**"
      ],
      "metadata": {
        "id": "zUkxZzd6013p"
      }
    },
    {
      "cell_type": "markdown",
      "source": [
        "#Display \"Hello World\"\n",
        "\"Hello World\""
      ],
      "metadata": {
        "id": "mMKWNByC1BgY"
      }
    },
    {
      "cell_type": "markdown",
      "source": [
        "#Declare Name is string and assigne your name\n",
        "Name = \"Pharkpoom\""
      ],
      "metadata": {
        "id": "G8j8_Pz208LZ"
      }
    },
    {
      "cell_type": "markdown",
      "source": [
        "#Display Name\n",
        "Name"
      ],
      "metadata": {
        "id": "QE-zKlaV1mla"
      }
    },
    {
      "cell_type": "markdown",
      "source": [
        "#Calcuation 1+2=3\n",
        "1+2"
      ],
      "metadata": {
        "id": "_S8xNy-n1pAb"
      }
    },
    {
      "cell_type": "markdown",
      "source": [
        "#Calculation 10^2\n",
        "10^2"
      ],
      "metadata": {
        "id": "WILo9Mji1u7C"
      }
    },
    {
      "cell_type": "markdown",
      "source": [
        "Dataset is Titanic_Data.csv\n",
        "Link: https://drive.google.com/file/d/1rf5JdzoTA8v7YSageRe9L4RLhIdRVeFx/view\n",
        "\n",
        "id = 1rf5JdzoTA8v7YSageRe9L4RLhIdRVeFx"
      ],
      "metadata": {
        "id": "UY2iHHan3KUb"
      }
    },
    {
      "cell_type": "markdown",
      "source": [
        "#system(\"ls\",TRUE) is function in R, used to return vector of character string containing all the veriable\n",
        "\n",
        "system(\"gdown --id 1rf5JdzoTA8v7YSageRe9L4RLhIdRVeFx\")"
      ],
      "metadata": {
        "id": "HmIrgBP71yvZ"
      }
    },
    {
      "cell_type": "markdown",
      "source": [
        "#Read data from file\n",
        "read.csv(\"Titanic_Data.csv\")"
      ],
      "metadata": {
        "id": "XL7aiwJP2xIC"
      }
    },
    {
      "cell_type": "markdown",
      "source": [
        "#Data Frame เป็นการจัดเก็บข้อมูลในรูปแบบตาราง --> data.frame()\n",
        "\n",
        "df = read.csv(\"Titanic_Data.csv\")"
      ],
      "metadata": {
        "id": "fe8C4yaC4r3X"
      }
    },
    {
      "cell_type": "markdown",
      "source": [
        "#Displsy data frame\n",
        "\n",
        "df"
      ],
      "metadata": {
        "id": "uMLW7wen5iWl"
      }
    },
    {
      "cell_type": "markdown",
      "source": [
        "#str(data frame), Function to display the structure of objects\n",
        "\n",
        "str(df)"
      ],
      "metadata": {
        "id": "6vTOklvI5K-Y"
      }
    },
    {
      "cell_type": "markdown",
      "source": [
        "#df[\"feature\"] to select column from data frame\n",
        "\n",
        "#Display Passenger.Class into column\n",
        "df[\"Passenger.Class\"]"
      ],
      "metadata": {
        "id": "OJp9aRaO5rht"
      }
    },
    {
      "cell_type": "markdown",
      "source": [
        "#df[\"feature\"] to select column from data frame\n",
        "\n",
        "#Display Passenger.Class into rows\n",
        "df[,\"Passenger.Class\"]"
      ],
      "metadata": {
        "id": "ShrjaJys6MKb"
      }
    },
    {
      "cell_type": "markdown",
      "source": [
        "#Select two or more column form data frame\n",
        "#c() is concatenate\n",
        "\n",
        "#df[c(“feature1”,“feature2”,…,“featureN”)]\n",
        "\n",
        "#Selcet Passenger.Class and Age\n",
        "\n",
        "df[c(\"Passenger.Class\",\"Age\")]"
      ],
      "metadata": {
        "id": "D7QmRlW96ajc"
      }
    },
    {
      "cell_type": "markdown",
      "source": [
        "#summary() , function to summary of data frame\n",
        "\n",
        "sumary(df)"
      ],
      "metadata": {
        "id": "QwMzrYL47mLS"
      }
    },
    {
      "cell_type": "markdown",
      "source": [
        "#table(dataframe$feature) to display freuency data table\n",
        "\n",
        "#display Survived into table\n",
        "\n",
        "table(df$Survived)"
      ],
      "metadata": {
        "id": "kaV9xzlb9eAE"
      }
    },
    {
      "cell_type": "markdown",
      "source": [
        "#display Sex and Survived into table\n",
        "\n",
        "table(df$Sex,df$Survived)"
      ],
      "metadata": {
        "id": "0Dk0gW7K-BBL"
      }
    },
    {
      "cell_type": "markdown",
      "source": [],
      "metadata": {
        "id": "HJlJc1fY99fj"
      }
    },
    {
      "cell_type": "markdown",
      "source": [
        "#ggplot2 is system for creating graphics, based on the Grammar of Graphics.\n",
        "#install packages\n",
        "\n",
        "install.packages(\"ggplot2\")"
      ],
      "metadata": {
        "id": "YFvwHiGk72LL"
      }
    },
    {
      "cell_type": "markdown",
      "source": [
        "#include library\n",
        "\n",
        "library(ggplot2)"
      ],
      "metadata": {
        "id": "ByaHutdY8wzZ"
      }
    },
    {
      "cell_type": "markdown",
      "source": [
        "#display bar chart of Age\n",
        "\n",
        "ggplot(data=df, aes(x = Age)) + geom_histogram(binwidth = 5)+ xlab(\"Age\")"
      ],
      "metadata": {
        "id": "Dl1kdayg-U2U"
      }
    },
    {
      "cell_type": "markdown",
      "source": [
        "#ชีทรวบรวมข้อมูล\n",
        "\n",
        "#https://docs.google.com/spreadsheets/d/1JrMqO4i17hajrGtLZV5p4kjRhjrre42KnQegO3btCVg/edit?usp=sharing\n",
        "\n",
        "#sheet id = 1JrMqO4i17hajrGtLZV5p4kjRhjrre42KnQegO3btCVg"
      ],
      "metadata": {
        "id": "jkzqoli0dOrH"
      }
    },
    {
      "cell_type": "markdown",
      "source": [
        "#ติดตั้ง packages - google drive และ google sheet\n",
        "install.packages(\"googledrive\")\n",
        "\n",
        "install.packages(\"googlesheets4\")\n"
      ],
      "metadata": {
        "id": "NSebhE6VdTv9"
      }
    },
    {
      "cell_type": "markdown",
      "source": [
        "#เรียกใช้ ไลบรารี่ - google drive และ google sheet\n",
        "\n",
        "library(googledrive)\n",
        "\n",
        "library(googlesheets4)"
      ],
      "metadata": {
        "id": "JNXDePHpdsIR"
      }
    },
    {
      "cell_type": "markdown",
      "source": [
        "#Authorized by Google Drive\n",
        "drive_auth()"
      ],
      "metadata": {
        "id": "wP1lKdq2d2Ke"
      }
    },
    {
      "cell_type": "markdown",
      "source": [
        "#Authorized by Google Sheet\n",
        "gs4_auth()"
      ],
      "metadata": {
        "id": "11Cu3bX_d54G"
      }
    },
    {
      "cell_type": "markdown",
      "source": [
        "#อ่านข้อมูลจาก Sheet\n",
        "sheet_url = \"https://docs.google.com/spreadsheets/d/1JrMqO4i17hajrGtLZV5p4kjRhjrre42KnQegO3btCVg/edit\""
      ],
      "metadata": {
        "id": "_kFbQCd3d-ja"
      }
    },
    {
      "cell_type": "markdown",
      "source": [
        "#สร้างตัวแปร สำหรับเก็บข้อมูลจาก Sheet\n",
        "sheet_data = read_sheet(sheet_url)"
      ],
      "metadata": {
        "id": "LV7JLba_eBHQ"
      }
    },
    {
      "cell_type": "markdown",
      "source": [
        "#สร้าง Data frame สำหรับ เก็บข้อมูลจากตัวแปร sheet_data\n",
        "df = data.frame(sheet_data)"
      ],
      "metadata": {
        "id": "1EyyH_LKeEpa"
      }
    },
    {
      "cell_type": "markdown",
      "source": [
        "#แสดงผลข้อมูลจาก Data frame\n",
        "df"
      ],
      "metadata": {
        "id": "S3nL0FqPeI_2"
      }
    },
    {
      "cell_type": "markdown",
      "source": [
        "#เรียกดูโครงสร้างข้อมูล\n",
        "str(df)"
      ],
      "metadata": {
        "id": "A9Wku1i5ep4u"
      }
    },
    {
      "cell_type": "markdown",
      "source": [
        "#วิเคราะห์ข้อมูลเบื้องต้น ดูค่าทางสถิติ และ missing value\n",
        "summary(df)"
      ],
      "metadata": {
        "id": "_gPJNRPffQWU"
      }
    },
    {
      "cell_type": "markdown",
      "source": [
        "#แสดงค่าทางสถิติสำหรับ 1 ตัวแปร\n",
        "summary(df[\"Facebook\"])"
      ],
      "metadata": {
        "id": "eXXXR8MkDA-7"
      }
    },
    {
      "cell_type": "markdown",
      "source": [
        "#แสดงค่าทางสถิติ สำหรับ ตัวแปรมากกว่า 1 ตัวแปร\n",
        "summary(df[c(\"Facebook\",\"Line\")])"
      ],
      "metadata": {
        "id": "fuPmN8jvDD_z"
      }
    },
    {
      "cell_type": "markdown",
      "source": [
        "install.packages(\"tidyverse\")\n",
        "library(tidyverse)"
      ],
      "metadata": {
        "id": "JV-QZ-zBe86x"
      }
    },
    {
      "cell_type": "markdown",
      "source": [
        "#การกำจัด missing value\n",
        "drop_na(df)"
      ],
      "metadata": {
        "id": "Nj0_9xCve_f_"
      }
    },
    {
      "cell_type": "markdown",
      "source": [
        "#นับค่าที่สังเกตได้ ของ สถานที่ใช้ social media\n",
        "table(df$place)"
      ],
      "metadata": {
        "id": "-6JNHe4WfVyY"
      }
    },
    {
      "cell_type": "markdown",
      "source": [
        "#นับค่าที่สังเกตได้ ของตัวแปร อายุ\n",
        "table(df$age)"
      ],
      "metadata": {
        "id": "cELCuzaxfkWt"
      }
    },
    {
      "cell_type": "markdown",
      "source": [
        "#นับที่ที่สังเกตได้ของ ตัวแปร อายุ และ สถานที่\n",
        "table(df$age,df$place)"
      ],
      "metadata": {
        "id": "GoEeJSUcf5kM"
      }
    },
    {
      "cell_type": "markdown",
      "source": [
        "#ติดตั้ง ggplot packages\n",
        "install.packages(\"ggplot2\")"
      ],
      "metadata": {
        "id": "lfoCtlf7ffnb"
      }
    },
    {
      "cell_type": "markdown",
      "source": [
        "#เรียกใช้ ggplot2\n",
        "library(ggplot2)"
      ],
      "metadata": {
        "id": "GdsE13SrgRGP"
      }
    },
    {
      "cell_type": "markdown",
      "source": [
        "**Analytics**\n",
        "\n",
        "**1.Discriptive Analytic = EDA**"
      ],
      "metadata": {
        "id": "9EPhcJghhsJu"
      }
    },
    {
      "cell_type": "markdown",
      "source": [
        "#สร้าง Visualization =  Plot\n",
        "plot(df[\"age\"])"
      ],
      "metadata": {
        "id": "tutBBMLhg1TQ"
      }
    },
    {
      "cell_type": "markdown",
      "source": [],
      "metadata": {
        "id": "yVAZtWpKhyJ3"
      }
    },
    {
      "cell_type": "markdown",
      "source": [
        "#สร้าง Visualization - Boxplot\n",
        "boxplot(df[\"age\"],col=\"brown2\",pch=20)"
      ],
      "metadata": {
        "id": "4fV7r5o_hCsu"
      }
    },
    {
      "cell_type": "markdown",
      "source": [
        "#สร้าง Visualization = Histogram\n",
        "ggplot(df, aes(x = age)) + geom_histogram(binwidth = 10, fill = \"blue\", color = \"black\", alpha = 0.7) + labs(title = \"Histogram Example\", x = \"Value\", y = \"Frequency\")"
      ],
      "metadata": {
        "id": "_PPzcDG7hRVa"
      }
    },
    {
      "cell_type": "markdown",
      "source": [
        "# สร้าง Visualization = Bar Chart\n",
        "ggplot(df, aes(x = call, y = age)) +\n",
        "  geom_bar(stat = \"identity\", fill = \"skyblue\", color = \"black\") +\n",
        "  labs(title = \"Bar Chart\", x = \"Age\", y = \"Calling\")"
      ],
      "metadata": {
        "id": "jhUALRF3hYp6"
      }
    },
    {
      "cell_type": "markdown",
      "source": [
        "**Analytics**\n",
        "**2. Diagnostics Analytics**"
      ],
      "metadata": {
        "id": "uXwI7tmKhksi"
      }
    },
    {
      "cell_type": "markdown",
      "source": [
        "#การหาความสัมพันธ์ระหว่างตัวแปร 2 ตัวแปร"
      ],
      "metadata": {
        "id": "KHWq23HViQpC"
      }
    },
    {
      "cell_type": "markdown",
      "source": [
        "# คำนวณค่า Correlation ระหว่างสองคอลัมน์ เช่น คอลัมน์ A และ B\n",
        "#สร้างตัวแปร cor_value\n",
        "cor_value = cor(df$age, df$call, method = \"pearson\")"
      ],
      "metadata": {
        "id": "C7uYfQeZiaKJ"
      }
    },
    {
      "cell_type": "markdown",
      "source": [
        "เรียกดูค่า Correlation\n",
        "\n",
        "cor_value"
      ],
      "metadata": {
        "id": "U8SiyIu6iezm"
      }
    },
    {
      "cell_type": "markdown",
      "source": [
        "# คำนวณค่า Correlation ระหว่างสองคอลัมน์ เช่น คอลัมน์ A และ B\n",
        "cor_value = cor(df$time_period, df$Line, method = \"pearson\")\n",
        "cor_value"
      ],
      "metadata": {
        "id": "WBw1IWQdiyUF"
      }
    },
    {
      "cell_type": "markdown",
      "source": [
        "# เลือกเฉพาะคอลัมน์ที่เป็นตัวเลข\n",
        "numeric_data <- df[, sapply(df, is.numeric)]\n",
        "\n",
        "# คำนวณค่า Correlation Matrix\n",
        "cor_matrix <- cor(numeric_data, method = \"pearson\")\n",
        "\n",
        "# แสดงผลลัพธ์\n",
        "cor_matrix"
      ],
      "metadata": {
        "id": "8vxW2P_Ti4pW"
      }
    },
    {
      "cell_type": "markdown",
      "source": [
        "# ติดตั้งแพ็กเกจเพิ่มเติมสำหรับ Heatmap\n",
        "install.packages(\"corrplot\")\n",
        "library(corrplot)"
      ],
      "metadata": {
        "id": "u7QENgaYjBkP"
      }
    },
    {
      "cell_type": "markdown",
      "source": [
        "#แสดงผล\n",
        "corrplot(cor_matrix)"
      ],
      "metadata": {
        "id": "eroPKG9HjEMh"
      }
    },
    {
      "cell_type": "markdown",
      "source": [
        "# สร้าง Heatmap\n",
        "corrplot(cor_matrix, method = \"color\", tl.col = \"black\", tl.srt = 45)"
      ],
      "metadata": {
        "id": "Wlbh8sEZjLM4"
      }
    },
    {
      "cell_type": "markdown",
      "source": [
        "**Analytics**\n",
        "**3.Predictive Analytics**"
      ],
      "metadata": {
        "id": "LP1nzS0FjV1g"
      }
    },
    {
      "cell_type": "markdown",
      "source": [
        "# สำหรับการสร้างกราฟ Tree\n",
        "install.packages(\"rpart\")\n",
        "\n",
        "install.packages(\"rpart.plot\")  "
      ],
      "metadata": {
        "id": "JScfkNdkjVh1"
      }
    },
    {
      "cell_type": "markdown",
      "source": [
        "#เรียกใช้\n",
        "library(rpart)\n",
        "\n",
        "library(rpart.plot)"
      ],
      "metadata": {
        "id": "VGd8_m8MjkQt"
      }
    },
    {
      "cell_type": "markdown",
      "source": [
        "#สร้างโมเดล\n",
        "tree_model = rpart(age ~ finance+time_period,data = df, method = \"class\")\n",
        "\n",
        "# แสดงผลลัพธ์ของโมเดล\n",
        "tree_model"
      ],
      "metadata": {
        "id": "j77gCzSqjzC5"
      }
    },
    {
      "cell_type": "markdown",
      "source": [
        "#แสดงแผนภูมิต้นไม้\n",
        "rpart.plot(tree_model)"
      ],
      "metadata": {
        "id": "c-Y4IFCVj3CX"
      }
    },
    {
      "cell_type": "markdown",
      "source": [
        "#สร้างโมเดล\n",
        "tree_model2 = rpart(place ~ Line + age,data = df, method = \"class\")\n",
        "\n",
        "# แสดงผลลัพธ์ของโมเดล\n",
        "tree_model2"
      ],
      "metadata": {
        "id": "I_RL8AMdkAwJ"
      }
    },
    {
      "cell_type": "markdown",
      "source": [
        "#แสดงแผนภาพต้นไม้\n",
        "rpart.plot(tree_model2)"
      ],
      "metadata": {
        "id": "tF2I-2KkkIVi"
      }
    },
    {
      "cell_type": "markdown",
      "source": [
        "#ดูโครงสร้าง\n",
        "str(df)"
      ],
      "metadata": {
        "id": "fa-0geVrkjb0"
      }
    },
    {
      "cell_type": "markdown",
      "source": [
        "#จัดกลุ่มตัวแปร\n",
        "df_comm = df[c(\"call\",\"message\",\"email\")]\n",
        "df_en = df[c(\"music\",\"photo\",\"vdo\",\"movie\",\"ebook\",\"games\")]\n",
        "df_search = df[c(\"food\",\"tourist_attract\",\"product\",\"shopping\",\"weather\",\"stock\")]\n",
        "df_social = df[c(\"Facebook\",\"Line\",\"Tiktok\",\"Instagram\",\"Youtube\",\"Twitter_X\",\"Whatsapp\",\"Threads\",\"LinkedIn\",\"Pinterest\",\"WeChat\",\"Discord\")]\n",
        "df_edu = df[c(\"learning\",\"testing\",\"content\",\"information\",\"knowledge\")]\n",
        "df_life = df[c(\"software\",\"watch\",\"finance\",\"calendar\",\"note\",\"memo\",\"map\")]"
      ],
      "metadata": {
        "id": "7GbcaXwikpUB"
      }
    },
    {
      "cell_type": "markdown",
      "source": [
        "#คำนวณค่าเฉลี่ย\n",
        "mean_comm =  colMeans(df_comm)\n",
        "mean_en =  colMeans(df_en)\n",
        "mean_search =  colMeans(df_search)\n",
        "mean_social =  colMeans(df_social)\n",
        "mean_edu =  colMeans(df_edu)\n",
        "mean_life =  colMeans(df_life)"
      ],
      "metadata": {
        "id": "ZLGRFyakksn3"
      }
    },
    {
      "cell_type": "markdown",
      "source": [
        "**The Lastest Workshop**\n",
        "1.ให้แต่ละกลุ่มสร้าง Google Form รวบรวมข้อมูลส่วนบุคคล\n",
        "2.รวบรวมข้อมูลผลการเรียน 3 ภาคเรียนที่ผ่านมา\n",
        "3.รวบรวมเงินเดือนที่ต้องการหลังสำเร็จการศึกษา\n",
        "4.นำมาวิเคราะห์ด้วย R\n",
        "  4.1 แจกแจงข้อมูลพื้นฐาน\n",
        "  4.2 หาความสัมพันธ์ระหว่างข้อมูล\n",
        "5.นำข้อมูลไปวิเคราะห์ด้วย KNIME เพื่อจัดกลุ่มข้อมูลด้วย k-Mean\n",
        "6.นำส่งใน LMS"
      ],
      "metadata": {
        "id": "oSONiIkukuPA"
      }
    }
  ],
  "metadata": {
    "colab": {
      "provenance": [],
      "include_colab_link": true
    },
    "kernelspec": {
      "display_name": "R",
      "name": "ir"
    },
    "language_info": {
      "name": "R"
    }
  },
  "nbformat": 4,
  "nbformat_minor": 0
}